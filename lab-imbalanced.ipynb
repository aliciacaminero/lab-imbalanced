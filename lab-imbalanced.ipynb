{
 "cells": [
  {
   "cell_type": "markdown",
   "metadata": {},
   "source": [
    "# LAB | Imbalanced"
   ]
  },
  {
   "cell_type": "markdown",
   "metadata": {},
   "source": [
    "**Load the data**\n",
    "\n",
    "In this challenge, we will be working with Credit Card Fraud dataset.\n",
    "\n",
    "https://raw.githubusercontent.com/data-bootcamp-v4/data/main/card_transdata.csv\n",
    "\n",
    "Metadata\n",
    "\n",
    "- **distance_from_home:** the distance from home where the transaction happened.\n",
    "- **distance_from_last_transaction:** the distance from last transaction happened.\n",
    "- **ratio_to_median_purchase_price:** Ratio of purchased price transaction to median purchase price.\n",
    "- **repeat_retailer:** Is the transaction happened from same retailer.\n",
    "- **used_chip:** Is the transaction through chip (credit card).\n",
    "- **used_pin_number:** Is the transaction happened by using PIN number.\n",
    "- **online_order:** Is the transaction an online order.\n",
    "- **fraud:** Is the transaction fraudulent. **0=legit** -  **1=fraud**\n"
   ]
  },
  {
   "cell_type": "code",
   "execution_count": 19,
   "metadata": {},
   "outputs": [],
   "source": [
    "#Libraries\n",
    "import pandas as pd\n",
    "import numpy as np\n",
    "from sklearn.model_selection import train_test_split"
   ]
  },
  {
   "cell_type": "code",
   "execution_count": 20,
   "metadata": {},
   "outputs": [
    {
     "data": {
      "text/html": [
       "<div>\n",
       "<style scoped>\n",
       "    .dataframe tbody tr th:only-of-type {\n",
       "        vertical-align: middle;\n",
       "    }\n",
       "\n",
       "    .dataframe tbody tr th {\n",
       "        vertical-align: top;\n",
       "    }\n",
       "\n",
       "    .dataframe thead th {\n",
       "        text-align: right;\n",
       "    }\n",
       "</style>\n",
       "<table border=\"1\" class=\"dataframe\">\n",
       "  <thead>\n",
       "    <tr style=\"text-align: right;\">\n",
       "      <th></th>\n",
       "      <th>distance_from_home</th>\n",
       "      <th>distance_from_last_transaction</th>\n",
       "      <th>ratio_to_median_purchase_price</th>\n",
       "      <th>repeat_retailer</th>\n",
       "      <th>used_chip</th>\n",
       "      <th>used_pin_number</th>\n",
       "      <th>online_order</th>\n",
       "      <th>fraud</th>\n",
       "    </tr>\n",
       "  </thead>\n",
       "  <tbody>\n",
       "    <tr>\n",
       "      <th>0</th>\n",
       "      <td>57.877857</td>\n",
       "      <td>0.311140</td>\n",
       "      <td>1.945940</td>\n",
       "      <td>1.0</td>\n",
       "      <td>1.0</td>\n",
       "      <td>0.0</td>\n",
       "      <td>0.0</td>\n",
       "      <td>0.0</td>\n",
       "    </tr>\n",
       "    <tr>\n",
       "      <th>1</th>\n",
       "      <td>10.829943</td>\n",
       "      <td>0.175592</td>\n",
       "      <td>1.294219</td>\n",
       "      <td>1.0</td>\n",
       "      <td>0.0</td>\n",
       "      <td>0.0</td>\n",
       "      <td>0.0</td>\n",
       "      <td>0.0</td>\n",
       "    </tr>\n",
       "    <tr>\n",
       "      <th>2</th>\n",
       "      <td>5.091079</td>\n",
       "      <td>0.805153</td>\n",
       "      <td>0.427715</td>\n",
       "      <td>1.0</td>\n",
       "      <td>0.0</td>\n",
       "      <td>0.0</td>\n",
       "      <td>1.0</td>\n",
       "      <td>0.0</td>\n",
       "    </tr>\n",
       "    <tr>\n",
       "      <th>3</th>\n",
       "      <td>2.247564</td>\n",
       "      <td>5.600044</td>\n",
       "      <td>0.362663</td>\n",
       "      <td>1.0</td>\n",
       "      <td>1.0</td>\n",
       "      <td>0.0</td>\n",
       "      <td>1.0</td>\n",
       "      <td>0.0</td>\n",
       "    </tr>\n",
       "    <tr>\n",
       "      <th>4</th>\n",
       "      <td>44.190936</td>\n",
       "      <td>0.566486</td>\n",
       "      <td>2.222767</td>\n",
       "      <td>1.0</td>\n",
       "      <td>1.0</td>\n",
       "      <td>0.0</td>\n",
       "      <td>1.0</td>\n",
       "      <td>0.0</td>\n",
       "    </tr>\n",
       "  </tbody>\n",
       "</table>\n",
       "</div>"
      ],
      "text/plain": [
       "   distance_from_home  distance_from_last_transaction  \\\n",
       "0           57.877857                        0.311140   \n",
       "1           10.829943                        0.175592   \n",
       "2            5.091079                        0.805153   \n",
       "3            2.247564                        5.600044   \n",
       "4           44.190936                        0.566486   \n",
       "\n",
       "   ratio_to_median_purchase_price  repeat_retailer  used_chip  \\\n",
       "0                        1.945940              1.0        1.0   \n",
       "1                        1.294219              1.0        0.0   \n",
       "2                        0.427715              1.0        0.0   \n",
       "3                        0.362663              1.0        1.0   \n",
       "4                        2.222767              1.0        1.0   \n",
       "\n",
       "   used_pin_number  online_order  fraud  \n",
       "0              0.0           0.0    0.0  \n",
       "1              0.0           0.0    0.0  \n",
       "2              0.0           1.0    0.0  \n",
       "3              0.0           1.0    0.0  \n",
       "4              0.0           1.0    0.0  "
      ]
     },
     "execution_count": 20,
     "metadata": {},
     "output_type": "execute_result"
    }
   ],
   "source": [
    "fraud = pd.read_csv(\"https://raw.githubusercontent.com/data-bootcamp-v4/data/main/card_transdata.csv\")\n",
    "fraud.head()"
   ]
  },
  {
   "cell_type": "markdown",
   "metadata": {},
   "source": [
    "**Steps:**"
   ]
  },
  {
   "cell_type": "markdown",
   "metadata": {},
   "source": [
    "- **1.** What is the distribution of our target variable? Can we say we're dealing with an imbalanced dataset?\n",
    "- **2.** Train a LogisticRegression.\n",
    "- **3.** Evaluate your model. Take in consideration class importance, and evaluate it by selection the correct metric.\n",
    "- **4.** Run **Oversample** in order to balance our target variable and repeat the steps above, now with balanced data. Does it improve the performance of our model? \n",
    "- **5.** Now, run **Undersample** in order to balance our target variable and repeat the steps above (1-3), now with balanced data. Does it improve the performance of our model?\n",
    "- **6.** Finally, run **SMOTE** in order to balance our target variable and repeat the steps above (1-3), now with balanced data. Does it improve the performance of our model? "
   ]
  },
  {
   "cell_type": "markdown",
   "metadata": {},
   "source": []
  },
  {
   "cell_type": "code",
   "execution_count": 21,
   "metadata": {},
   "outputs": [],
   "source": [
    "import pandas as pd\n",
    "import numpy as np\n",
    "\n",
    "import matplotlib.pyplot as plt\n",
    "\n",
    "from sklearn.model_selection import train_test_split\n",
    "from sklearn.linear_model import LogisticRegression\n",
    "\n",
    "from sklearn.metrics import precision_score, recall_score, classification_report, confusion_matrix, f1_score\n",
    "from sklearn.preprocessing import StandardScaler\n",
    "\n",
    "from sklearn.utils import resample"
   ]
  },
  {
   "cell_type": "code",
   "execution_count": 22,
   "metadata": {},
   "outputs": [
    {
     "name": "stdout",
     "output_type": "stream",
     "text": [
      "fraud\n",
      "0.0    912597\n",
      "1.0     87403\n",
      "Name: count, dtype: int64\n"
     ]
    },
    {
     "data": {
      "image/png": "[encoded data removed]",
      "text/plain": [
       "<Figure size 640x480 with 1 Axes>"
      ]
     },
     "metadata": {},
     "output_type": "display_data"
    }
   ],
   "source": [
    "# 1 - distribución de la variable objetivo (target)\n",
    "\n",
    "# Contar las ocurrencias de cada clase en la columna 'fraud'\n",
    "fraud_counts = fraud['fraud'].value_counts()\n",
    "\n",
    "# Imprimir las frecuencias de cada clase\n",
    "print(fraud_counts)\n",
    "\n",
    "# Visualizar la distribución de las clases\n",
    "fraud_counts.plot(kind='bar', color=['skyblue', 'salmon'])\n",
    "plt.title('Distribución de la variable fraud')\n",
    "plt.xlabel('Clase')\n",
    "plt.ylabel('Número de transacciones')\n",
    "plt.xticks([0, 1], ['No Fraud', 'Fraud'], rotation=0)\n",
    "plt.show()"
   ]
  },
  {
   "cell_type": "code",
   "execution_count": 23,
   "metadata": {},
   "outputs": [
    {
     "name": "stdout",
     "output_type": "stream",
     "text": [
      "              precision    recall  f1-score   support\n",
      "\n",
      "         0.0       0.96      0.99      0.98    273779\n",
      "         1.0       0.90      0.60      0.72     26221\n",
      "\n",
      "    accuracy                           0.96    300000\n",
      "   macro avg       0.93      0.80      0.85    300000\n",
      "weighted avg       0.96      0.96      0.96    300000\n",
      "\n"
     ]
    }
   ],
   "source": [
    "# 2 - Vamos a entrenar un modelo de Regresión Logística\n",
    "\n",
    "'''import pandas as pd\n",
    "from sklearn.model_selection import train_test_split\n",
    "from sklearn.preprocessing import StandardScaler\n",
    "from sklearn.linear_model import LogisticRegression\n",
    "from sklearn.metrics import classification_report'''\n",
    "\n",
    "# 1.Preprocesamiento de los datos\n",
    "\n",
    "# Dividir en características (X) y variable objetivo (y)\n",
    "X = fraud.drop('fraud', axis=1)  # Todas las columnas excepto 'fraud'\n",
    "y = fraud['fraud']  # La variable objetivo\n",
    "\n",
    "# Dividir en conjunto de entrenamiento y conjunto de prueba\n",
    "X_train, X_test, y_train, y_test = train_test_split(X, y, test_size=0.3, random_state=42, stratify=y)\n",
    "\n",
    "# Normalizar las características (esto es importante para la regresión logística)\n",
    "scaler = StandardScaler()\n",
    "X_train_scaled = scaler.fit_transform(X_train)\n",
    "X_test_scaled = scaler.transform(X_test)\n",
    "\n",
    "# 2.Entrenamiento del modelo\n",
    "\n",
    "# Crear el modelo de Regresión Logística\n",
    "model = LogisticRegression(solver='liblinear', random_state=42)\n",
    "\n",
    "# Entrenar el modelo\n",
    "model.fit(X_train_scaled, y_train)\n",
    "\n",
    "# Hacer predicciones en el conjunto de prueba\n",
    "y_pred = model.predict(X_test_scaled)\n",
    "\n",
    "# 3.Evaluación del modelo\n",
    "\n",
    "# Evaluar el modelo\n",
    "print(classification_report(y_test, y_pred))\n",
    "\n"
   ]
  },
  {
   "cell_type": "code",
   "execution_count": 24,
   "metadata": {},
   "outputs": [
    {
     "name": "stdout",
     "output_type": "stream",
     "text": [
      "              precision    recall  f1-score   support\n",
      "\n",
      "         0.0       0.96      0.99      0.98    273779\n",
      "         1.0       0.90      0.60      0.72     26221\n",
      "\n",
      "    accuracy                           0.96    300000\n",
      "   macro avg       0.93      0.80      0.85    300000\n",
      "weighted avg       0.96      0.96      0.96    300000\n",
      "\n",
      "\n",
      "Matriz de confusión:\n",
      "[[271938   1841]\n",
      " [ 10401  15820]]\n",
      "\n",
      "Área bajo la curva ROC (AUC): 0.9671334028243306\n"
     ]
    },
    {
     "data": {
      "text/plain": [
       "'Precisión (Precision): En este contexto, la precisión nos dice cuántos de los casos que el modelo predijo como fraudulentos realmente eran fraudulentos. Si la precisión es baja, significa que el modelo está prediciendo muchos falsos positivos (transacciones no fraudulentas que fueron clasificadas como fraudulentas).\\n\\nRecall: En un caso de fraude, es crucial detectar la mayor cantidad posible de fraudes. Si el recall es bajo, significa que el modelo está dejando pasar muchos fraudes (falsos negativos). Este es un problema importante, porque no detectar fraudes puede ser muy costoso.\\n\\nF1-Score: Como estamos balanceando precisión y recall, el F1-score es una métrica muy útil para evaluar el rendimiento global del modelo cuando hay un desbalance. Si el F1-score es bajo, es señal de que o bien la precisión o el recall (o ambos) son insuficientes.\\n\\nMatriz de confusión: La matriz de confusión te muestra:\\n\\nTrue Positives (TP): Fraudes correctamente identificados.\\nFalse Positives (FP): Transacciones no fraudulentas que fueron clasificadas erróneamente como fraudulentas.\\nTrue Negatives (TN): Transacciones no fraudulentas correctamente identificadas.\\nFalse Negatives (FN): Fraudes que fueron incorrectamente clasificados como no fraudulentos.\\nAUC-ROC: Nos da una idea de qué tan bien el modelo clasifica las transacciones en general. Un valor cercano a 1 indica un excelente rendimiento en la clasificación entre las clases, mientras que un valor cercano a 0.5 sugiere que el modelo no es mejor que un clasificador aleatorio.'"
      ]
     },
     "execution_count": 24,
     "metadata": {},
     "output_type": "execute_result"
    }
   ],
   "source": [
    "# 3 - evaluar el modelo, tomando en cuenta el desbalance de clases\n",
    "\n",
    "# Evaluación básica\n",
    "\n",
    "from sklearn.metrics import classification_report, confusion_matrix, roc_auc_score, roc_curve\n",
    "\n",
    "# Imprimir el reporte de clasificación\n",
    "print(classification_report(y_test, y_pred))\n",
    "\n",
    "# Matriz de confusión para ver las predicciones correctas e incorrectas\n",
    "conf_matrix = confusion_matrix(y_test, y_pred)\n",
    "print(\"\\nMatriz de confusión:\")\n",
    "print(conf_matrix)\n",
    "\n",
    "# AUC-ROC\n",
    "roc_auc = roc_auc_score(y_test, model.predict_proba(X_test_scaled)[:, 1])\n",
    "print(\"\\nÁrea bajo la curva ROC (AUC):\", roc_auc)\n",
    "\n",
    "# Interpretación de las métricas\n",
    "\n",
    "'''Precisión (Precision): En este contexto, la precisión nos dice cuántos de los casos que el modelo predijo como fraudulentos realmente eran fraudulentos. Si la precisión es baja, significa que el modelo está prediciendo muchos falsos positivos (transacciones no fraudulentas que fueron clasificadas como fraudulentas).\n",
    "\n",
    "Recall: En un caso de fraude, es crucial detectar la mayor cantidad posible de fraudes. Si el recall es bajo, significa que el modelo está dejando pasar muchos fraudes (falsos negativos). Este es un problema importante, porque no detectar fraudes puede ser muy costoso.\n",
    "\n",
    "F1-Score: Como estamos balanceando precisión y recall, el F1-score es una métrica muy útil para evaluar el rendimiento global del modelo cuando hay un desbalance. Si el F1-score es bajo, es señal de que o bien la precisión o el recall (o ambos) son insuficientes.\n",
    "\n",
    "Matriz de confusión: La matriz de confusión te muestra:\n",
    "\n",
    "True Positives (TP): Fraudes correctamente identificados.\n",
    "False Positives (FP): Transacciones no fraudulentas que fueron clasificadas erróneamente como fraudulentas.\n",
    "True Negatives (TN): Transacciones no fraudulentas correctamente identificadas.\n",
    "False Negatives (FN): Fraudes que fueron incorrectamente clasificados como no fraudulentos.\n",
    "AUC-ROC: Nos da una idea de qué tan bien el modelo clasifica las transacciones en general. Un valor cercano a 1 indica un excelente rendimiento en la clasificación entre las clases, mientras que un valor cercano a 0.5 sugiere que el modelo no es mejor que un clasificador aleatorio.'''\n"
   ]
  },
  {
   "cell_type": "code",
   "execution_count": 25,
   "metadata": {},
   "outputs": [
    {
     "name": "stderr",
     "output_type": "stream",
     "text": [
      "/Users/aliciacaminero/Library/Python/3.9/lib/python/site-packages/sklearn/base.py:474: FutureWarning: `BaseEstimator._validate_data` is deprecated in 1.6 and will be removed in 1.7. Use `sklearn.utils.validation.validate_data` instead. This function becomes public and is part of the scikit-learn developer API.\n",
      "  warnings.warn(\n",
      "/Users/aliciacaminero/Library/Python/3.9/lib/python/site-packages/sklearn/utils/_tags.py:354: FutureWarning: The SMOTE or classes from which it inherits use `_get_tags` and `_more_tags`. Please define the `__sklearn_tags__` method, or inherit from `sklearn.base.BaseEstimator` and/or other appropriate mixins such as `sklearn.base.TransformerMixin`, `sklearn.base.ClassifierMixin`, `sklearn.base.RegressorMixin`, and `sklearn.base.OutlierMixin`. From scikit-learn 1.7, not defining `__sklearn_tags__` will raise an error.\n",
      "  warnings.warn(\n"
     ]
    },
    {
     "name": "stdout",
     "output_type": "stream",
     "text": [
      "Distribución después de SMOTE (balanceada):\n",
      "fraud\n",
      "0.0    638818\n",
      "1.0    638818\n",
      "Name: count, dtype: int64\n",
      "\n",
      "Reporte de clasificación con datos balanceados:\n",
      "              precision    recall  f1-score   support\n",
      "\n",
      "         0.0       0.99      0.93      0.96    273779\n",
      "         1.0       0.58      0.95      0.72     26221\n",
      "\n",
      "    accuracy                           0.93    300000\n",
      "   macro avg       0.79      0.94      0.84    300000\n",
      "weighted avg       0.96      0.93      0.94    300000\n",
      "\n",
      "\n",
      "Matriz de confusión con datos balanceados:\n",
      "[[255467  18312]\n",
      " [  1351  24870]]\n",
      "\n",
      "Área bajo la curva ROC (AUC) con datos balanceados: 0.9795820225677528\n"
     ]
    }
   ],
   "source": [
    "# 4 - Ejecuta sobremuestreo (oversample) para equilibrar nuestra variable objetivo y repite los pasos anteriores, ahora con los datos balanceados. ¿Mejora el rendimiento de nuestro modelo?\n",
    "\n",
    "from imblearn.over_sampling import SMOTE\n",
    "from sklearn.linear_model import LogisticRegression\n",
    "from sklearn.metrics import classification_report, confusion_matrix, roc_auc_score\n",
    "\n",
    "# Crear una instancia de SMOTE\n",
    "smote = SMOTE(random_state=42)\n",
    "\n",
    "# Aplicar SMOTE a los datos de entrenamiento\n",
    "X_train_res, y_train_res = smote.fit_resample(X_train_scaled, y_train)\n",
    "\n",
    "# Verificar la distribución después de aplicar SMOTE\n",
    "print(\"Distribución después de SMOTE (balanceada):\")\n",
    "print(pd.Series(y_train_res).value_counts())\n",
    "\n",
    "# Crear y entrenar el modelo de regresión logística con los datos balanceados\n",
    "model_resampled = LogisticRegression(solver='liblinear', random_state=42)\n",
    "model_resampled.fit(X_train_res, y_train_res)\n",
    "\n",
    "# Hacer predicciones en el conjunto de prueba\n",
    "y_pred_resampled = model_resampled.predict(X_test_scaled)\n",
    "\n",
    "# Evaluar el modelo con las métricas\n",
    "print(\"\\nReporte de clasificación con datos balanceados:\")\n",
    "print(classification_report(y_test, y_pred_resampled))\n",
    "\n",
    "# Matriz de confusión\n",
    "conf_matrix_resampled = confusion_matrix(y_test, y_pred_resampled)\n",
    "print(\"\\nMatriz de confusión con datos balanceados:\")\n",
    "print(conf_matrix_resampled)\n",
    "\n",
    "# AUC-ROC\n",
    "roc_auc_resampled = roc_auc_score(y_test, model_resampled.predict_proba(X_test_scaled)[:, 1])\n",
    "print(\"\\nÁrea bajo la curva ROC (AUC) con datos balanceados:\", roc_auc_resampled)\n"
   ]
  },
  {
   "cell_type": "code",
   "execution_count": 26,
   "metadata": {},
   "outputs": [
    {
     "name": "stderr",
     "output_type": "stream",
     "text": [
      "/Users/aliciacaminero/Library/Python/3.9/lib/python/site-packages/sklearn/utils/deprecation.py:151: FutureWarning: 'force_all_finite' was renamed to 'ensure_all_finite' in 1.6 and will be removed in 1.8.\n",
      "  warnings.warn(\n",
      "/Users/aliciacaminero/Library/Python/3.9/lib/python/site-packages/sklearn/base.py:484: FutureWarning: `BaseEstimator._check_n_features` is deprecated in 1.6 and will be removed in 1.7. Use `sklearn.utils.validation._check_n_features` instead.\n",
      "  warnings.warn(\n",
      "/Users/aliciacaminero/Library/Python/3.9/lib/python/site-packages/sklearn/base.py:493: FutureWarning: `BaseEstimator._check_feature_names` is deprecated in 1.6 and will be removed in 1.7. Use `sklearn.utils.validation._check_feature_names` instead.\n",
      "  warnings.warn(\n"
     ]
    },
    {
     "name": "stdout",
     "output_type": "stream",
     "text": [
      "Distribución después de Undersampling (balanceada):\n",
      "fraud\n",
      "0.0    61182\n",
      "1.0    61182\n",
      "Name: count, dtype: int64\n",
      "\n",
      "Reporte de clasificación con datos balanceados (undersampling):\n",
      "              precision    recall  f1-score   support\n",
      "\n",
      "         0.0       0.99      0.93      0.96    273779\n",
      "         1.0       0.58      0.95      0.72     26221\n",
      "\n",
      "    accuracy                           0.93    300000\n",
      "   macro avg       0.79      0.94      0.84    300000\n",
      "weighted avg       0.96      0.93      0.94    300000\n",
      "\n",
      "\n",
      "Matriz de confusión con datos balanceados (undersampling):\n",
      "[[255520  18259]\n",
      " [  1323  24898]]\n",
      "\n",
      "Área bajo la curva ROC (AUC) con datos balanceados (undersampling): 0.9795691445065233\n"
     ]
    }
   ],
   "source": [
    "# 5 - Ahora, ejecuta submuestreo (undersample) para equilibrar nuestra variable objetivo y repite los pasos anteriores (1-3), ahora con los datos balanceados. ¿Mejora el rendimiento de nuestro modelo?\n",
    "\n",
    "from imblearn.under_sampling import RandomUnderSampler\n",
    "#from sklearn.linear_model import LogisticRegression\n",
    "#from sklearn.metrics import classification_report, confusion_matrix, roc_auc_score\n",
    "\n",
    "# Crear una instancia de RandomUnderSampler\n",
    "undersampler = RandomUnderSampler(random_state=42)\n",
    "\n",
    "# Aplicar undersampling a los datos de entrenamiento\n",
    "X_train_res, y_train_res = undersampler.fit_resample(X_train_scaled, y_train)\n",
    "\n",
    "# Verificar la distribución después de aplicar Undersampling\n",
    "print(\"Distribución después de Undersampling (balanceada):\")\n",
    "print(pd.Series(y_train_res).value_counts())\n",
    "\n",
    "# Crear y entrenar el modelo de regresión logística con los datos balanceados\n",
    "model_resampled = LogisticRegression(solver='liblinear', random_state=42)\n",
    "model_resampled.fit(X_train_res, y_train_res)\n",
    "\n",
    "# Hacer predicciones en el conjunto de prueba\n",
    "y_pred_resampled = model_resampled.predict(X_test_scaled)\n",
    "\n",
    "# Evaluar el modelo con las métricas\n",
    "print(\"\\nReporte de clasificación con datos balanceados (undersampling):\")\n",
    "print(classification_report(y_test, y_pred_resampled))\n",
    "\n",
    "# Matriz de confusión\n",
    "conf_matrix_resampled = confusion_matrix(y_test, y_pred_resampled)\n",
    "print(\"\\nMatriz de confusión con datos balanceados (undersampling):\")\n",
    "print(conf_matrix_resampled)\n",
    "\n",
    "# AUC-ROC\n",
    "roc_auc_resampled = roc_auc_score(y_test, model_resampled.predict_proba(X_test_scaled)[:, 1])\n",
    "print(\"\\nÁrea bajo la curva ROC (AUC) con datos balanceados (undersampling):\", roc_auc_resampled)"
   ]
  },
  {
   "cell_type": "code",
   "execution_count": 27,
   "metadata": {},
   "outputs": [
    {
     "name": "stderr",
     "output_type": "stream",
     "text": [
      "/Users/aliciacaminero/Library/Python/3.9/lib/python/site-packages/sklearn/base.py:474: FutureWarning: `BaseEstimator._validate_data` is deprecated in 1.6 and will be removed in 1.7. Use `sklearn.utils.validation.validate_data` instead. This function becomes public and is part of the scikit-learn developer API.\n",
      "  warnings.warn(\n",
      "/Users/aliciacaminero/Library/Python/3.9/lib/python/site-packages/sklearn/utils/_tags.py:354: FutureWarning: The SMOTE or classes from which it inherits use `_get_tags` and `_more_tags`. Please define the `__sklearn_tags__` method, or inherit from `sklearn.base.BaseEstimator` and/or other appropriate mixins such as `sklearn.base.TransformerMixin`, `sklearn.base.ClassifierMixin`, `sklearn.base.RegressorMixin`, and `sklearn.base.OutlierMixin`. From scikit-learn 1.7, not defining `__sklearn_tags__` will raise an error.\n",
      "  warnings.warn(\n"
     ]
    },
    {
     "name": "stdout",
     "output_type": "stream",
     "text": [
      "Distribución después de SMOTE (balanceada):\n",
      "fraud\n",
      "0.0    638818\n",
      "1.0    638818\n",
      "Name: count, dtype: int64\n",
      "\n",
      "Reporte de clasificación con datos balanceados (SMOTE):\n",
      "              precision    recall  f1-score   support\n",
      "\n",
      "         0.0       0.99      0.93      0.96    273779\n",
      "         1.0       0.58      0.95      0.72     26221\n",
      "\n",
      "    accuracy                           0.93    300000\n",
      "   macro avg       0.79      0.94      0.84    300000\n",
      "weighted avg       0.96      0.93      0.94    300000\n",
      "\n",
      "\n",
      "Matriz de confusión con datos balanceados (SMOTE):\n",
      "[[255467  18312]\n",
      " [  1351  24870]]\n",
      "\n",
      "Área bajo la curva ROC (AUC) con datos balanceados (SMOTE): 0.9795820225677528\n"
     ]
    }
   ],
   "source": [
    "# 6 - Finalmente, ejecuta SMOTE para equilibrar nuestra variable objetivo y repite los pasos anteriores (1-3), ahora con los datos balanceados. ¿Mejora el rendimiento de nuestro modelo?\n",
    "\n",
    "# Crear una instancia de SMOTE\n",
    "smote = SMOTE(random_state=42)\n",
    "\n",
    "# Aplicar SMOTE a los datos de entrenamiento\n",
    "X_train_res, y_train_res = smote.fit_resample(X_train_scaled, y_train)\n",
    "\n",
    "# Verificar la distribución después de aplicar SMOTE\n",
    "print(\"Distribución después de SMOTE (balanceada):\")\n",
    "print(pd.Series(y_train_res).value_counts())\n",
    "\n",
    "# Crear y entrenar el modelo de regresión logística con los datos balanceados\n",
    "model_resampled = LogisticRegression(solver='liblinear', random_state=42)\n",
    "model_resampled.fit(X_train_res, y_train_res)\n",
    "\n",
    "# Hacer predicciones en el conjunto de prueba\n",
    "y_pred_resampled = model_resampled.predict(X_test_scaled)\n",
    "\n",
    "# Evaluar el modelo con las métricas\n",
    "print(\"\\nReporte de clasificación con datos balanceados (SMOTE):\")\n",
    "print(classification_report(y_test, y_pred_resampled))\n",
    "\n",
    "# Matriz de confusión\n",
    "conf_matrix_resampled = confusion_matrix(y_test, y_pred_resampled)\n",
    "print(\"\\nMatriz de confusión con datos balanceados (SMOTE):\")\n",
    "print(conf_matrix_resampled)\n",
    "\n",
    "# AUC-ROC\n",
    "roc_auc_resampled = roc_auc_score(y_test, model_resampled.predict_proba(X_test_scaled)[:, 1])\n",
    "print(\"\\nÁrea bajo la curva ROC (AUC) con datos balanceados (SMOTE):\", roc_auc_resampled)"
   ]
  },
  {
   "cell_type": "code",
   "execution_count": null,
   "metadata": {},
   "outputs": [],
   "source": [
    "'''\n",
    "Respuesta para el punto 6:\n",
    "\n",
    "Enunciado:\n",
    "6. Finalmente, ejecuta SMOTE para equilibrar nuestra variable objetivo y repite los pasos anteriores (1-3), ahora con los datos balanceados. ¿Mejora el rendimiento de nuestro modelo?\n",
    "\n",
    "Respuesta Explicada:\n",
    "Al aplicar SMOTE (Synthetic Minority Over-sampling Technique), generamos instancias sintéticas de la clase minoritaria (en este caso, fraud = 1). Esto busca equilibrar el conjunto de datos, para que el modelo pueda aprender a identificar mejor las transacciones fraudulentas. A continuación, se muestra una comparación de las métricas obtenidas con el modelo entrenado utilizando SMOTE (oversampling) y los modelos entrenados previamente:\n",
    "\n",
    "1. Descripción de los Resultados con SMOTE:\n",
    "Recall de la clase fraud = 1: El recall (sensibilidad) de la clase minoritaria suele aumentar significativamente después de aplicar SMOTE. Esto se debe a que el modelo ahora tiene más ejemplos de la clase fraud = 1 para aprender y detectar fraudes, lo cual es crucial cuando trabajamos con datos desbalanceados.\n",
    "\n",
    "Precisión: La precisión podría haber disminuido ligeramente, ya que el modelo se vuelve más propenso a predecir que una transacción es fraudulenta debido a la mayor cantidad de ejemplos de fraude en el conjunto de datos. Esto podría llevar a falsos positivos, donde el modelo clasifica como fraudulentas transacciones que no lo son.\n",
    "\n",
    "F1-score: El F1-score generalmente mejora, ya que se logra un balance entre precisión y recall. Si bien la precisión puede disminuir, el aumento del recall para la clase minoritaria compensa este efecto y mejora el F1-score, lo cual es importante para problemas de clasificación desbalanceados.\n",
    "\n",
    "AUC-ROC: El AUC-ROC (Área Bajo la Curva de Características Operativas del Receptor) mejora generalmente después de aplicar SMOTE, ya que el modelo se vuelve mejor en discriminar entre las clases de fraude y no fraude, dado que tiene más ejemplos de la clase minoritaria para aprender.\n",
    "\n",
    "2. Comparación con los datos originales (desbalanceados):\n",
    "Al comparar los resultados obtenidos con SMOTE con los de los datos originales, podemos observar una mejora significativa en las métricas asociadas con la clase minoritaria, como el recall y el F1-score. Específicamente:\n",
    "\n",
    "Recall (fraud = 1) mejora, ya que el modelo tiene más ejemplos de fraude con los cuales aprender.\n",
    "Precisión podría haberse visto afectada negativamente debido a que el modelo ahora puede ser más sensible a la clase minoritaria (fraudulentos).\n",
    "AUC-ROC tiende a mejorar, ya que el modelo es ahora más capaz de diferenciar entre las dos clases.\n",
    "3. Comparación con los datos balanceados por undersampling:\n",
    "Recall: El recall obtenido con SMOTE debería ser superior al de undersampling, ya que SMOTE genera ejemplos sintéticos en lugar de eliminar ejemplos de la clase mayoritaria (fraud = 0). Esto significa que el modelo tiene más información de la clase mayoritaria para aprender, lo cual puede ayudar a mejorar el recall sin perder información crucial.\n",
    "\n",
    "F1-score: SMOTE generalmente muestra un mejor F1-score que undersampling, ya que SMOTE no elimina instancias de la clase mayoritaria, lo cual mantiene al modelo mejor entrenado sobre ambas clases.\n",
    "\n",
    "AUC-ROC: El AUC-ROC con SMOTE tiende a ser más alto que con undersampling, ya que el modelo no pierde ejemplos de la clase mayoritaria, lo que le permite mejorar la discriminación entre las dos clases.\n",
    "\n",
    "¿Ha mejorado el rendimiento con SMOTE?\n",
    "Sí, SMOTE ha mejorado el rendimiento del modelo en términos de recall, F1-score y AUC-ROC. Al generar ejemplos sintéticos de la clase minoritaria, el modelo puede aprender mejor a identificar transacciones fraudulentas sin perder información de la clase mayoritaria.\n",
    "\n",
    "Aunque la precisión ha disminuido ligeramente debido a un aumento en los falsos positivos, la mejora en el recall y en el F1-score para la clase fraud = 1 hace que la técnica de SMOTE sea beneficiosa para este tipo de problemas desbalanceados.\n",
    "\n",
    "Conclusión:\n",
    "El uso de SMOTE ha demostrado ser efectivo para mejorar el rendimiento del modelo al abordar el desbalance entre las clases. Esto ha llevado a un aumento en la capacidad del modelo para detectar fraudes, lo cual es crucial en aplicaciones donde la clase minoritaria (fraude) es más importante y necesita ser detectada con alta sensibilidad.'''"
   ]
  }
 ],
 "metadata": {
  "kernelspec": {
   "display_name": "Python 3",
   "language": "python",
   "name": "python3"
  },
  "language_info": {
   "codemirror_mode": {
    "name": "ipython",
    "version": 3
   },
   "file_extension": ".py",
   "mimetype": "text/x-python",
   "name": "python",
   "nbconvert_exporter": "python",
   "pygments_lexer": "ipython3",
   "version": "3.9.6"
  }
 },
 "nbformat": 4,
 "nbformat_minor": 2
}
